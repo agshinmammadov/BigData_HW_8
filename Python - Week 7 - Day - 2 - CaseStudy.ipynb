{
 "cells": [
  {
   "cell_type": "code",
   "execution_count": 7,
   "id": "21bb18f5-ec1d-4c04-baf7-8f76da96d852",
   "metadata": {},
   "outputs": [],
   "source": [
    "# 1. Create Car Class that has 3 class attributes: year, mpg and speed.\n",
    "# 2. Create 2 methods for the Car class:\n",
    "#  Accelerate and break where the speed of the car changes when this methods are called.\n",
    "class Car:\n",
    "    year = 0\n",
    "    mpg = 0.0\n",
    "    speed = 0.0\n",
    "    \n",
    "    def __init__(self, year, mpg, speed):\n",
    "        self.year = year\n",
    "        self.mpg = mpg\n",
    "        self.speed = speed\n",
    "\n",
    "    def accelerate(self, increment):\n",
    "        self.speed += increment\n",
    "\n",
    "    def brake(self, decrement):\n",
    "        self.speed -= decrement\n",
    "        if self.speed < 0:\n",
    "            self.speed = 0\n",
    "        return self.speed\n",
    "\n",
    "\n"
   ]
  },
  {
   "cell_type": "code",
   "execution_count": 31,
   "id": "316884e8-841d-4f3f-bf69-0636db4592b5",
   "metadata": {},
   "outputs": [],
   "source": [
    "# 3. Change all class attributes to instance attributes.\n",
    "\n",
    "class Car:    \n",
    "    def __init__(self, year, mpg, speed):\n",
    "        self.year = year\n",
    "        self.mpg = mpg\n",
    "        self.speed = speed\n",
    "\n",
    "    def accelerate(self, increment):\n",
    "        self.speed += increment\n",
    "\n",
    "    def brake(self, decrement):\n",
    "        self.speed -= decrement\n",
    "        if self.speed < 0:\n",
    "            self.speed = 0\n",
    "        return self.speed\n",
    "\n"
   ]
  },
  {
   "cell_type": "code",
   "execution_count": 34,
   "id": "c752248c-1e9b-4383-87d3-5e2ae6a3e217",
   "metadata": {},
   "outputs": [],
   "source": [
    "# 4. Create a class vehicle and create inheritance between car and vehicle.\n",
    "class Vehicle:    \n",
    "    def __init__(self, year, mpg, speed):\n",
    "        self.year = year\n",
    "        self.mpg = mpg\n",
    "        self.speed = speed\n",
    "\n",
    "    def accelerate(self, increment):\n",
    "        self.speed += increment\n",
    "\n",
    "    def brake(self, decrement):\n",
    "        self.speed -= decrement\n",
    "        if self.speed < 0:\n",
    "            self.speed = 0\n",
    "        return self.speed\n",
    "\n",
    "\n",
    "class Car(Vehicle):\n",
    "    def __init__(self, year, mpg, speed):\n",
    "        super().__init__(year, mpg, speed)\n"
   ]
  },
  {
   "cell_type": "code",
   "execution_count": 35,
   "id": "cac1fdf6-8f31-4224-a08c-0f048a874bb4",
   "metadata": {},
   "outputs": [],
   "source": [
    "# 5. Create a new class bus which has the same methods as car and inherits from Vehicle.\n",
    "class Bus(Vehicle):\n",
    "    def __init__(self, year, mpg, speed):\n",
    "        super().__init__(year, mpg, speed)\n"
   ]
  },
  {
   "cell_type": "code",
   "execution_count": null,
   "id": "7923128a-4270-4148-be9f-377dd8bd4f4a",
   "metadata": {},
   "outputs": [],
   "source": [
    "# 6. Change some of the instance attributes to the private attributes.\n",
    "class Vehicle:\n",
    "    def __init__(self, year, mpg, speed):\n",
    "        self.__year = year #private instance\n",
    "        self.__mpg = mpg  #private instance\n",
    "        self.speed = speed\n",
    "        \n",
    "     def accelerate(self, increment):\n",
    "        self.speed += increment\n",
    "\n",
    "    def brake(self, decrement):\n",
    "        self.speed -= decrement\n",
    "        if self.speed < 0:\n",
    "            self.speed = 0\n",
    "        return self.speed \n"
   ]
  }
 ],
 "metadata": {
  "kernelspec": {
   "display_name": "Python 3 (ipykernel)",
   "language": "python",
   "name": "python3"
  },
  "language_info": {
   "codemirror_mode": {
    "name": "ipython",
    "version": 3
   },
   "file_extension": ".py",
   "mimetype": "text/x-python",
   "name": "python",
   "nbconvert_exporter": "python",
   "pygments_lexer": "ipython3",
   "version": "3.11.7"
  }
 },
 "nbformat": 4,
 "nbformat_minor": 5
}
