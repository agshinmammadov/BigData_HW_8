{
 "cells": [
  {
   "cell_type": "code",
   "execution_count": 2,
   "id": "32822d25-554c-4649-92d7-7d3df13c4aa9",
   "metadata": {},
   "outputs": [],
   "source": [
    "# 1. Create a Vehicle class with maxspeed and color instance attributes. \n",
    "# 2. Create new method which prints maxspeed and the color for the given vehicle. \n",
    "\n",
    "class Vehicle:\n",
    "    def __init__(self, maxspeed, color):\n",
    "        self.maxspeed = maxspeed\n",
    "        self.color = color\n",
    "\n",
    "    def get_maxspeed(self):\n",
    "        return self.maxspeed\n",
    "\n",
    "    def get_color(self):\n",
    "        return self.color\n",
    "\n",
    "\n"
   ]
  },
  {
   "cell_type": "code",
   "execution_count": 3,
   "id": "52f17325-f7b1-4e0c-9717-38825e23f4c2",
   "metadata": {},
   "outputs": [],
   "source": [
    "# 3. Create child class Car that will inherit all of the variables and methods of the \n",
    "# Vehicle class. \n",
    "\n",
    "class child(Vehicle):\n",
    "    def __init__(self, maxspeed, color):\n",
    "        super().__init__(maxspeed, color)"
   ]
  },
  {
   "cell_type": "code",
   "execution_count": 4,
   "id": "95d9dfda-3132-4e01-b308-d03835b74cee",
   "metadata": {},
   "outputs": [],
   "source": [
    "# 4. Define property that should have the same value for every class instance. \n",
    "# Example : Every Vehicle should be white.\n",
    "\n",
    "class Vehicle:\n",
    "    def __init__(self, maxspeed):\n",
    "        self.maxspeed = maxspeed\n",
    "        self.color = 'white'"
   ]
  },
  {
   "cell_type": "code",
   "execution_count": 8,
   "id": "b01c3f5b-3fd1-440c-b81a-2c1701cc933b",
   "metadata": {},
   "outputs": [],
   "source": [
    "# 5. Create a Train child class that inherits from the Vehicle class. The default fare of \n",
    "# any vehicle is seating capacity * 35. If Vehicle is Train instance, we need to add \n",
    "# an extra 10% on full fare as a maintenance charge. \n",
    "\n",
    "class Vehicle:\n",
    "    def __init__(self, seats):\n",
    "        self.seats = seats\n",
    "        self.fare = self.seats * 35\n",
    "\n",
    "class Train(Vehicle):\n",
    "    def __init__(self, seats):\n",
    "        super().__init__(seats)\n",
    "        self.fare = self.fare * 1.10   \n"
   ]
  },
  {
   "cell_type": "code",
   "execution_count": 12,
   "id": "edc4bd2c-8616-4942-9ade-98072d8ed347",
   "metadata": {},
   "outputs": [],
   "source": [
    "# 6. Determine which class a given car and train object belongs to . \n",
    "# Answer: we can use type() to define the object belongs to\n",
    "\n",
    "vehicle = Vehicle(50)\n",
    "train = Train(50)"
   ]
  },
  {
   "cell_type": "code",
   "execution_count": 13,
   "id": "42d936b1-a381-4c4e-a4a4-3114f514e450",
   "metadata": {},
   "outputs": [
    {
     "data": {
      "text/plain": [
       "__main__.Vehicle"
      ]
     },
     "execution_count": 13,
     "metadata": {},
     "output_type": "execute_result"
    }
   ],
   "source": [
    "type(vehicle)"
   ]
  },
  {
   "cell_type": "code",
   "execution_count": 14,
   "id": "cbeb339a-fc06-457c-b1ee-0d531841e805",
   "metadata": {},
   "outputs": [
    {
     "data": {
      "text/plain": [
       "__main__.Train"
      ]
     },
     "execution_count": 14,
     "metadata": {},
     "output_type": "execute_result"
    }
   ],
   "source": [
    "type(train)"
   ]
  }
 ],
 "metadata": {
  "kernelspec": {
   "display_name": "Python 3 (ipykernel)",
   "language": "python",
   "name": "python3"
  },
  "language_info": {
   "codemirror_mode": {
    "name": "ipython",
    "version": 3
   },
   "file_extension": ".py",
   "mimetype": "text/x-python",
   "name": "python",
   "nbconvert_exporter": "python",
   "pygments_lexer": "ipython3",
   "version": "3.11.7"
  }
 },
 "nbformat": 4,
 "nbformat_minor": 5
}
